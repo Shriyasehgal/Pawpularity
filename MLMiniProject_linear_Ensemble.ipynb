{
  "nbformat": 4,
  "nbformat_minor": 0,
  "metadata": {
    "colab": {
      "name": "MLMiniProject_linear_Ensemble.ipynb",
      "provenance": []
    },
    "kernelspec": {
      "name": "python3",
      "display_name": "Python 3"
    },
    "language_info": {
      "name": "python"
    }
  },
  "cells": [
    {
      "cell_type": "code",
      "source": [
        "from google.colab import drive\n",
        "drive._mount('/content/drive')"
      ],
      "metadata": {
        "colab": {
          "base_uri": "https://localhost:8080/"
        },
        "id": "oyfXvp-6Oe9n",
        "outputId": "63912853-b0e6-4d60-f1f1-db4c86eb0b49"
      },
      "execution_count": 232,
      "outputs": [
        {
          "output_type": "stream",
          "name": "stdout",
          "text": [
            "Drive already mounted at /content/drive; to attempt to forcibly remount, call drive.mount(\"/content/drive\", force_remount=True).\n"
          ]
        }
      ]
    },
    {
      "cell_type": "code",
      "source": [
        "import os\n",
        "\n",
        "import pandas as pd\n",
        "from sklearn.model_selection import train_test_split\n",
        "from sklearn.linear_model import LinearRegression, Ridge, Lasso,LogisticRegression, RidgeCV\n",
        "from sklearn.metrics import mean_squared_error\n",
        "from sklearn.feature_selection import VarianceThreshold\n",
        "from sklearn.preprocessing import StandardScaler\n",
        "from sklearn.pipeline import make_pipeline\n",
        "import numpy as np\n",
        "from sklearn import metrics\n",
        "import matplotlib.pyplot as plt\n",
        "from sklearn.svm import LinearSVR\n",
        "from sklearn.ensemble import RandomForestRegressor,StackingRegressor\n"
      ],
      "metadata": {
        "id": "2P4in_vqPR53"
      },
      "execution_count": 233,
      "outputs": []
    },
    {
      "cell_type": "markdown",
      "source": [
        "# Reading the Metadata"
      ],
      "metadata": {
        "id": "POZDog-DLUzN"
      }
    },
    {
      "cell_type": "code",
      "source": [
        "def create_dataset(img_folder):\n",
        "   \n",
        "    image_path=[]\n",
        "    labels=[]\n",
        "      \n",
        "\n",
        "    for file in os.listdir(img_folder):       \n",
        "            image_path.append(img_folder)\n",
        "            label = file\n",
        "            labels.append(label)\n",
        "       \n",
        "    return image_path,labels"
      ],
      "metadata": {
        "id": "NrnZXLyYSZ5z"
      },
      "execution_count": 234,
      "outputs": []
    },
    {
      "cell_type": "code",
      "source": [
        "\n",
        "X, id = create_dataset('/content/drive/MyDrive/Machine Learning: 589/Project/train')\n",
        "features = pd.read_csv('/content/drive/MyDrive/Machine Learning: 589/Project/train.csv')"
      ],
      "metadata": {
        "id": "ofHvnSL6Sfyr"
      },
      "execution_count": 235,
      "outputs": []
    },
    {
      "cell_type": "code",
      "execution_count": 236,
      "metadata": {
        "colab": {
          "base_uri": "https://localhost:8080/"
        },
        "id": "p9kPthFwN3iW",
        "outputId": "06c6c85b-7643-4291-90ad-454638dc0948"
      },
      "outputs": [
        {
          "output_type": "stream",
          "name": "stdout",
          "text": [
            "Training Data\n",
            "      Subject Focus  Eyes  Face  Near  ...  Human  Occlusion  Info  Blur\n",
            "9733              0     1     1     1  ...      0          0     0     0\n",
            "1829              0     1     1     0  ...      0          0     0     0\n",
            "2222              0     1     0     0  ...      0          0     1     0\n",
            "178               0     1     1     1  ...      0          0     0     0\n",
            "5917              0     1     1     1  ...      0          0     0     0\n",
            "...             ...   ...   ...   ...  ...    ...        ...   ...   ...\n",
            "8098              0     1     1     1  ...      0          1     0     0\n",
            "3057              0     1     1     1  ...      1          1     0     0\n",
            "8601              0     1     1     1  ...      0          0     0     0\n",
            "1900              0     0     1     1  ...      1          0     0     0\n",
            "8699              0     1     1     1  ...      0          0     1     0\n",
            "\n",
            "[6938 rows x 12 columns]\n",
            "Validation Data\n",
            "      Subject Focus  Eyes  Face  Near  ...  Human  Occlusion  Info  Blur\n",
            "4619              0     1     1     1  ...      0          0     0     0\n",
            "8420              0     1     1     1  ...      1          1     1     0\n",
            "4770              0     0     0     1  ...      0          0     0     0\n",
            "2010              0     1     1     1  ...      0          0     0     0\n",
            "2652              0     1     1     1  ...      0          0     0     0\n",
            "...             ...   ...   ...   ...  ...    ...        ...   ...   ...\n",
            "2964              0     1     1     1  ...      1          0     1     0\n",
            "1827              0     0     0     1  ...      0          0     0     0\n",
            "9763              0     0     0     1  ...      0          0     0     1\n",
            "5403              0     1     1     1  ...      0          0     0     0\n",
            "7663              0     1     1     1  ...      0          0     0     0\n",
            "\n",
            "[1487 rows x 12 columns]\n",
            "Testing Data\n",
            "      Subject Focus  Eyes  Face  Near  ...  Human  Occlusion  Info  Blur\n",
            "6749              0     1     1     1  ...      0          0     0     0\n",
            "1313              1     1     1     1  ...      0          0     0     0\n",
            "4611              0     1     1     1  ...      0          0     0     0\n",
            "7449              0     1     1     1  ...      0          0     0     0\n",
            "247               0     0     1     0  ...      0          0     0     0\n",
            "...             ...   ...   ...   ...  ...    ...        ...   ...   ...\n",
            "820               0     0     1     0  ...      0          1     1     0\n",
            "3736              0     1     1     1  ...      0          0     0     0\n",
            "4971              0     0     0     1  ...      0          0     0     0\n",
            "2136              0     1     1     1  ...      1          1     0     0\n",
            "1901              0     1     1     1  ...      0          0     0     0\n",
            "\n",
            "[1487 rows x 12 columns]\n"
          ]
        }
      ],
      "source": [
        "X_features = features.iloc[:, 1:13]\n",
        "scores =features.iloc[:, -1]\n",
        "\n",
        "#Training data = 70% of the dataset, Test data= 15% of the dataset, Val Data - 15% of the dataset\n",
        "X_train, X_test, Y_train, Y_test = train_test_split(X_features, scores, test_size = 0.3, shuffle=True)\n",
        "\n",
        "X_val, X_test, Y_val, Y_test = train_test_split(X_test, Y_test, test_size=0.5 , shuffle=True) \n",
        "\n",
        "\n",
        "\n",
        "print(\"Training Data\")\n",
        "print(X_train)\n",
        "print(\"Validation Data\")\n",
        "print(X_val)\n",
        "print(\"Testing Data\")\n",
        "print(X_test)"
      ]
    },
    {
      "cell_type": "code",
      "source": [
        "corr = features.corr()\n",
        "sns.set_style(\"ticks\")\n",
        "\n",
        "# Generate a mask for the upper triangle\n",
        "mask = np.triu(np.ones_like(corr, dtype=bool))\n",
        "\n",
        "# Set up the matplotlib figure\n",
        "f, ax = plt.subplots(figsize=(11, 9))\n",
        "\n",
        "# Generate a custom diverging colormap\n",
        "cmap = sns.diverging_palette(256, 1, as_cmap=True)\n",
        "\n",
        "# Draw the heatmap with the mask and correct aspect ratio\n",
        "sns.heatmap(corr, mask=mask, cmap=cmap, center=0,\n",
        "            square=True, linewidths=.5, cbar_kws={\"shrink\": .5});"
      ],
      "metadata": {
        "colab": {
          "base_uri": "https://localhost:8080/",
          "height": 596
        },
        "id": "7CQbxGnDMP27",
        "outputId": "9d2a9e10-9622-405a-f000-0f4b5f70b28e"
      },
      "execution_count": 247,
      "outputs": [
        {
          "output_type": "display_data",
          "data": {
            "image/png": "[encoded data removed]",
            "text/plain": [
              "<Figure size 792x648 with 2 Axes>"
            ]
          },
          "metadata": {}
        }
      ]
    },
    {
      "cell_type": "markdown",
      "source": [
        "# Linear Models"
      ],
      "metadata": {
        "id": "ACs2N1oCMM75"
      }
    },
    {
      "cell_type": "markdown",
      "source": [
        "### Linear Regression"
      ],
      "metadata": {
        "id": "RgVPWae5K8A7"
      }
    },
    {
      "cell_type": "code",
      "source": [
        "# testing linear regressor \n",
        "\n",
        "reg = LinearRegression().fit(X_train, Y_train)\n",
        "\n",
        "y_pred = reg.predict(X_val)\n",
        "\n",
        "rmse = mean_squared_error(Y_val, y_pred, squared=False)\n",
        "rmse"
      ],
      "metadata": {
        "colab": {
          "base_uri": "https://localhost:8080/"
        },
        "id": "ccXJZfNCPN5S",
        "outputId": "877c976b-4491-4186-d787-6d0668f2d88a"
      },
      "execution_count": 164,
      "outputs": [
        {
          "output_type": "execute_result",
          "data": {
            "text/plain": [
              "19.86601694568212"
            ]
          },
          "metadata": {},
          "execution_count": 164
        }
      ]
    },
    {
      "cell_type": "code",
      "source": [
        ""
      ],
      "metadata": {
        "id": "Oh--Ebf3K_Mm"
      },
      "execution_count": null,
      "outputs": []
    },
    {
      "cell_type": "markdown",
      "source": [
        "### Ridge Regression"
      ],
      "metadata": {
        "id": "Hj7QVpmoK5LR"
      }
    },
    {
      "cell_type": "code",
      "source": [
        "def hyper_parameter_tuning(model_class, alphas, train, valid):\n",
        "   \n",
        "    train_X, train_y = train\n",
        "    valid_X, valid_y = valid\n",
        "\n",
        "   \n",
        "\n",
        "    # train the model with each alpha\n",
        "    best_mae = float(\"inf\")\n",
        "    best_model, best_params = None, None\n",
        "    \n",
        "    for  alpha in alphas:\n",
        "        print(f\"Alpha: {alpha}\")\n",
        "        classifier = Ridge(alpha = alpha)\n",
        "        classifier.fit(train_X, train_y)\n",
        "        y_pred = classifier.predict(valid_X)\n",
        "\n",
        "        mae = mean_squared_error( y_pred, valid_y,squared=False)\n",
        "        print(f\"RMSE: {mae}\")\n",
        "        if best_mae > mae:\n",
        "            best_mae = mae\n",
        "            best_model = classifier\n",
        "            best_params = alpha\n",
        "\n",
        "    print(f\"Best Values: RSME= {best_mae}, Model= {best_model}, Alpha= {best_params}\")\n",
        "    # choose the model with lowest rmse on validation set\n",
        "    # then fit the model with the training and validation set (refit)\n",
        "    X = np.concatenate([train_X, valid_X], axis=0)\n",
        "    y = np.concatenate([train_y, valid_y], axis=0)\n",
        "    best_model.fit(X, y)\n",
        "    # return the fitted model and the best parameter setting\n",
        "    return best_model, best_params"
      ],
      "metadata": {
        "id": "hUkLXwZXLAR2"
      },
      "execution_count": 215,
      "outputs": []
    },
    {
      "cell_type": "code",
      "source": [
        "def plot_mae_alpha(model_class, params, train, valid, test, title=\"Model\"):\n",
        "    \n",
        "    train_X = np.concatenate([train[0], valid[0]], axis=0)\n",
        "    train_y = np.concatenate([train[1], valid[1]], axis=0)\n",
        "\n",
        "    # set up the list of alphas to train on\n",
        "    mae_list = []\n",
        "    # train the model with each alpha, log MAE\n",
        "    # print(params)\n",
        "    for alpha in params:\n",
        "        # print(param)\n",
        "        classifier = model_class(tol=0.0001, alpha=alpha).fit(train_X, train_y)\n",
        "        classifier.fit(train_X, train_y)\n",
        "        y_pred = classifier.predict(test[0])\n",
        "        mae =  mean_squared_error(y_pred, test[1],squared=False)\n",
        "        mae_list.append(mae)\n",
        "    print(mae_list)\n",
        "    # plot the MAE - Alpha\n",
        "    plt.plot(params, mae_list ,color='b', label=model_class)\n",
        "    plt.title(title)\n",
        "    plt.xlabel(\"Alpha\")\n",
        "    plt.ylabel(\"Root Mean Squared Error\")\n",
        "    plt.show()"
      ],
      "metadata": {
        "id": "bHWTM6KuRnGx"
      },
      "execution_count": 216,
      "outputs": []
    },
    {
      "cell_type": "code",
      "source": [
        "alpha=[5, 6, 7, 8, 9, 10, 15, 20, 25, 30]\n",
        "ridge_model, ridge_param = hyper_parameter_tuning(Ridge, alpha, (X_train,Y_train), (X_val,Y_val))\n",
        "plot_mae_alpha(Ridge, [5, 6, 7, 8, 9, 10, 15, 20, 25, 30], (X_train,Y_train), (X_val,Y_val), (X_test,Y_test), \"Ridge\")"
      ],
      "metadata": {
        "colab": {
          "base_uri": "https://localhost:8080/",
          "height": 1000
        },
        "id": "iAMfhD_TRGHN",
        "outputId": "0f58a65c-8cb0-4923-b383-1e6aca80f0c4"
      },
      "execution_count": 217,
      "outputs": [
        {
          "output_type": "stream",
          "name": "stdout",
          "text": [
            "Alpha: 5\n",
            "RMSE: 19.865421132935865\n",
            "Alpha: 6\n",
            "RMSE: 19.86530782785057\n",
            "Alpha: 7\n",
            "RMSE: 19.865196381890797\n",
            "Alpha: 8\n",
            "RMSE: 19.865086756759766\n",
            "Alpha: 9\n",
            "RMSE: 19.864978914996254\n",
            "Alpha: 10\n",
            "RMSE: 19.864872819961068\n",
            "Alpha: 15\n",
            "RMSE: 19.864367319100538\n",
            "Alpha: 20\n",
            "RMSE: 19.863900438124215\n",
            "Alpha: 25\n",
            "RMSE: 19.863468434624632\n",
            "Alpha: 30\n",
            "RMSE: 19.863067970119353\n",
            "Best Values: RSME= 19.863067970119353, Model= Ridge(alpha=30), Alpha= 30\n",
            "[20.96505459500372, 20.96492806090017, 20.964803841247956, 20.964681874826926, 20.96456210270787, 20.964444468137188, 20.96388651136379, 20.963374559780867, 20.96290342513523, 20.962468697535805]\n"
          ]
        },
        {
          "output_type": "stream",
          "name": "stderr",
          "text": [
            "/usr/local/lib/python3.7/dist-packages/sklearn/base.py:439: UserWarning: X has feature names, but Ridge was fitted without feature names\n",
            "  f\"X has feature names, but {self.__class__.__name__} was fitted without\"\n",
            "/usr/local/lib/python3.7/dist-packages/sklearn/base.py:439: UserWarning: X has feature names, but Ridge was fitted without feature names\n",
            "  f\"X has feature names, but {self.__class__.__name__} was fitted without\"\n",
            "/usr/local/lib/python3.7/dist-packages/sklearn/base.py:439: UserWarning: X has feature names, but Ridge was fitted without feature names\n",
            "  f\"X has feature names, but {self.__class__.__name__} was fitted without\"\n",
            "/usr/local/lib/python3.7/dist-packages/sklearn/base.py:439: UserWarning: X has feature names, but Ridge was fitted without feature names\n",
            "  f\"X has feature names, but {self.__class__.__name__} was fitted without\"\n",
            "/usr/local/lib/python3.7/dist-packages/sklearn/base.py:439: UserWarning: X has feature names, but Ridge was fitted without feature names\n",
            "  f\"X has feature names, but {self.__class__.__name__} was fitted without\"\n",
            "/usr/local/lib/python3.7/dist-packages/sklearn/base.py:439: UserWarning: X has feature names, but Ridge was fitted without feature names\n",
            "  f\"X has feature names, but {self.__class__.__name__} was fitted without\"\n",
            "/usr/local/lib/python3.7/dist-packages/sklearn/base.py:439: UserWarning: X has feature names, but Ridge was fitted without feature names\n",
            "  f\"X has feature names, but {self.__class__.__name__} was fitted without\"\n",
            "/usr/local/lib/python3.7/dist-packages/sklearn/base.py:439: UserWarning: X has feature names, but Ridge was fitted without feature names\n",
            "  f\"X has feature names, but {self.__class__.__name__} was fitted without\"\n",
            "/usr/local/lib/python3.7/dist-packages/sklearn/base.py:439: UserWarning: X has feature names, but Ridge was fitted without feature names\n",
            "  f\"X has feature names, but {self.__class__.__name__} was fitted without\"\n",
            "/usr/local/lib/python3.7/dist-packages/sklearn/base.py:439: UserWarning: X has feature names, but Ridge was fitted without feature names\n",
            "  f\"X has feature names, but {self.__class__.__name__} was fitted without\"\n"
          ]
        },
        {
          "output_type": "display_data",
          "data": {
            "image/png": "[encoded data removed]",
            "text/plain": [
              "<Figure size 432x288 with 1 Axes>"
            ]
          },
          "metadata": {
            "needs_background": "light"
          }
        }
      ]
    },
    {
      "cell_type": "markdown",
      "source": [
        "# Ensemble Methods"
      ],
      "metadata": {
        "id": "1IZm31yeV6Yf"
      }
    },
    {
      "cell_type": "markdown",
      "source": [
        "### RandomForestRegressor"
      ],
      "metadata": {
        "id": "3qBCWRY9LybD"
      }
    },
    {
      "cell_type": "code",
      "source": [
        "rmses =[]\n",
        "least_rmse =  float(\"inf\")\n",
        "best_depth = 0\n",
        "max_depths = range(2, 20)\n",
        "for depth in max_depths:\n",
        "  classifier = RandomForestRegressor(n_estimators=50, max_depth = depth,max_features=\"log2\",random_state=21)\n",
        "  classifier.fit(X_train, Y_train)\n",
        "  y_pred_sqrt = classifier.predict(X_val)\n",
        "  rmse =  mean_squared_error(Y_val, y_pred_sqrt,squared = False)\n",
        "  rmses.append(rmse)\n",
        "  if least_rmse>rmse:\n",
        "    least_rmse = rmse\n",
        "    best_depth = depth\n",
        "\n",
        "\n",
        "plt.plot(max_depths, rmses, color='r')\n",
        "plt.xlabel(\"Maximum Depth\")\n",
        "plt.ylabel(\"Root Mean Squared Error\")\n",
        "plt.title(\"Random Forest Graph\")\n",
        "\n",
        "plt.legend()\n",
        "plt.show()\n",
        "print(f\"Random Forest Graph with the best RSME ={least_rmse} max_depth ={best_depth} \")"
      ],
      "metadata": {
        "colab": {
          "base_uri": "https://localhost:8080/",
          "height": 332
        },
        "id": "SJoOKN0IWzYp",
        "outputId": "7e663e6a-3d33-478a-e535-dc0c469f7a94"
      },
      "execution_count": 230,
      "outputs": [
        {
          "output_type": "stream",
          "name": "stderr",
          "text": [
            "No handles with labels found to put in legend.\n"
          ]
        },
        {
          "output_type": "display_data",
          "data": {
            "image/png": "[encoded data removed]",
            "text/plain": [
              "<Figure size 432x288 with 1 Axes>"
            ]
          },
          "metadata": {
            "needs_background": "light"
          }
        },
        {
          "output_type": "stream",
          "name": "stdout",
          "text": [
            "Random Forest Graph with the best RSME =19.842183360400313 max_depth =3 \n"
          ]
        }
      ]
    },
    {
      "cell_type": "code",
      "source": [
        ""
      ],
      "metadata": {
        "id": "-LqG6TjNW090"
      },
      "execution_count": 37,
      "outputs": []
    },
    {
      "cell_type": "markdown",
      "source": [
        "### Stacking"
      ],
      "metadata": {
        "id": "jzY3uqctMX82"
      }
    },
    {
      "cell_type": "code",
      "source": [
        "estimators = [\n",
        "     ('lr', RidgeCV()),\n",
        "     ('svr', LinearSVR(random_state=21))]\n",
        "\n",
        "reg = StackingRegressor(\n",
        "    estimators=estimators,\n",
        "    final_estimator=RandomForestRegressor(n_estimators=100,max_depth=4,max_features = 'log2',\n",
        "                                         random_state=21))"
      ],
      "metadata": {
        "id": "aHt-kr-7mqUP"
      },
      "execution_count": 171,
      "outputs": []
    },
    {
      "cell_type": "code",
      "source": [
        "reg"
      ],
      "metadata": {
        "colab": {
          "base_uri": "https://localhost:8080/"
        },
        "id": "_y3H_unquvRI",
        "outputId": "7c6a3530-665b-4b06-a965-ba3ef859c894"
      },
      "execution_count": 231,
      "outputs": [
        {
          "output_type": "execute_result",
          "data": {
            "text/plain": [
              "StackingRegressor(estimators=[('lr', RidgeCV(alphas=array([ 0.1,  1. , 10. ]))),\n",
              "                              ('svr', LinearSVR(random_state=21))],\n",
              "                  final_estimator=RandomForestRegressor(max_depth=4,\n",
              "                                                        max_features='sqrt',\n",
              "                                                        random_state=21))"
            ]
          },
          "metadata": {},
          "execution_count": 231
        }
      ]
    },
    {
      "cell_type": "code",
      "source": [
        "reg.fit(X_train, Y_train)\n",
        "pred_Y = reg.predict(X_val)\n",
        "rmses = mean_squared_error(Y_val,  pred_Y, squared=False)\n",
        "rmses"
      ],
      "metadata": {
        "colab": {
          "base_uri": "https://localhost:8080/"
        },
        "id": "aVt2Hlg3myOw",
        "outputId": "36df4c66-b062-471e-b475-52b61ea0c597"
      },
      "execution_count": 172,
      "outputs": [
        {
          "output_type": "execute_result",
          "data": {
            "text/plain": [
              "19.84179517683221"
            ]
          },
          "metadata": {},
          "execution_count": 172
        }
      ]
    }
  ]
}