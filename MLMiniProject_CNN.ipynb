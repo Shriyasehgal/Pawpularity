{
  "nbformat": 4,
  "nbformat_minor": 0,
  "metadata": {
    "colab": {
      "name": "MLMiniProject_CNN.ipynb",
      "provenance": [],
      "collapsed_sections": []
    },
    "kernelspec": {
      "name": "python3",
      "display_name": "Python 3"
    },
    "language_info": {
      "name": "python"
    },
    "accelerator": "GPU"
  },
  "cells": [
    {
      "cell_type": "code",
      "metadata": {
        "colab": {
          "base_uri": "https://localhost:8080/"
        },
        "id": "baPCJX4WLtht",
        "outputId": "6b13bc97-3436-4473-b9fd-a5c64a267811"
      },
      "source": [
        "from google.colab import drive\n",
        "drive._mount('/content/drive')"
      ],
      "execution_count": 1,
      "outputs": [
        {
          "output_type": "stream",
          "name": "stdout",
          "text": [
            "Mounted at /content/drive\n"
          ]
        }
      ]
    },
    {
      "cell_type": "markdown",
      "metadata": {
        "id": "RzyneJi2Mts-"
      },
      "source": [
        "# Importing the Libraries"
      ]
    },
    {
      "cell_type": "code",
      "metadata": {
        "id": "MJ27TDeMtec6"
      },
      "source": [
        "#packages\n",
        "#basics\n",
        "import os\n",
        "import numpy as np\n",
        "import pandas as pd\n",
        "\n",
        "#images\n",
        "import cv2\n",
        "\n",
        "#modeling\n",
        "from sklearn.model_selection import train_test_split\n",
        "import tensorflow as tf\n",
        "from tensorflow import keras\n",
        "from tensorflow.keras import layers\n",
        "from tensorflow.keras.regularizers import l2\n",
        "from tensorflow.keras.preprocessing.image import ImageDataGenerator\n",
        "from tensorflow.python.client import device_lib\n",
        "from keras.layers import Dense,Flatten,Conv2D,Activation,Dropout,BatchNormalization,MaxPool2D,Input,MaxPooling2D\n",
        "\n",
        "#visualizations\n",
        "import seaborn as sns\n",
        "import matplotlib.pyplot as plt"
      ],
      "execution_count": 2,
      "outputs": []
    },
    {
      "cell_type": "markdown",
      "metadata": {
        "id": "pMcxGCvTM8fJ"
      },
      "source": [
        "# Reading the Data"
      ]
    },
    {
      "cell_type": "code",
      "metadata": {
        "id": "43eCBxhrOD_Z"
      },
      "source": [
        "train_data_csv = '/content/drive/MyDrive/Machine Learning: 589/Project/train.csv'\n",
        "test_data_csv  = '/content/drive/MyDrive/Machine Learning: 589/Project/test.csv'\n",
        "train_folder = '/content/drive/MyDrive/Machine Learning: 589/Project/train'\n",
        "test_folder  = '/content/drive/MyDrive/Machine Learning: 589/Project/test'\n",
        "train_df = pd.read_csv(train_data_csv)\n",
        "test_df = pd.read_csv(test_data_csv)\n",
        "train = train_df.drop(['Subject Focus', 'Eyes', 'Face', 'Near', 'Action', 'Accessory', 'Group', 'Collage', 'Human', 'Occlusion', 'Info', 'Blur'],axis=1)\n",
        "test = test_df.drop(['Subject Focus', 'Eyes', 'Face', 'Near', 'Action', 'Accessory', 'Group', 'Collage', 'Human', 'Occlusion', 'Info', 'Blur'],axis=1)\n"
      ],
      "execution_count": 3,
      "outputs": []
    },
    {
      "cell_type": "code",
      "metadata": {
        "id": "QfejDqgKfeeI"
      },
      "source": [
        "def train_path(x):\n",
        "    return '/content/drive/MyDrive/Machine Learning: 589/Project/train/' + x + \".jpg\"\n",
        "def test_path(x):\n",
        "    return '/content/drive/MyDrive/Machine Learning: 589/Project/test/' + x + \".jpg\""
      ],
      "execution_count": 4,
      "outputs": []
    },
    {
      "cell_type": "code",
      "metadata": {
        "id": "Fg682c7nfMru"
      },
      "source": [
        "train[\"path\"] = train[\"Id\"].apply(train_path)\n",
        "test[\"path\"] = test[\"Id\"].apply(test_path)"
      ],
      "execution_count": 5,
      "outputs": []
    },
    {
      "cell_type": "code",
      "metadata": {
        "id": "F2XBERGXt1vE"
      },
      "source": [
        "def load_img(image_path):\n",
        "    raw = tf.io.read_file(image_path)\n",
        "    image = tf.image.decode_jpeg(raw, channels=3)\n",
        "    image = tf.cast(image, tf.float32) / 255.0\n",
        "    image = tf.image.resize(image, (128, 128))\n",
        "    return image\n"
      ],
      "execution_count": 6,
      "outputs": []
    },
    {
      "cell_type": "code",
      "metadata": {
        "id": "jyJU_dkDt1yO"
      },
      "source": [
        "X = []\n",
        "scores = []\n",
        "for img in range(len(train)):\n",
        "  X.append(load_img(train.iloc[img]['path']))\n",
        "  scores.append(train.iloc[img]['Pawpularity'])\n",
        "  if img%100 == 0:\n",
        "    print(img)\n",
        "print(type(X),len(X))\n"
      ],
      "execution_count": null,
      "outputs": []
    },
    {
      "cell_type": "code",
      "metadata": {
        "id": "ZUAwop0dt11F"
      },
      "source": [
        "X = np.array(X)\n",
        "scores = np.array(scores)"
      ],
      "execution_count": 8,
      "outputs": []
    },
    {
      "cell_type": "code",
      "metadata": {
        "id": "gDHDNA50t131"
      },
      "source": [
        "X_train, X_val, Y_train, Y_val = train_test_split(X, scores, test_size=0.2, shuffle = True)"
      ],
      "execution_count": 9,
      "outputs": []
    },
    {
      "cell_type": "markdown",
      "metadata": {
        "id": "LLbqK8of6hLR"
      },
      "source": [
        "# Architecture of the Model"
      ]
    },
    {
      "cell_type": "code",
      "metadata": {
        "id": "w6G0egGreEHP"
      },
      "source": [
        "inputs=keras.Input(shape=(128,128,3))\n",
        "x=inputs\n",
        "x=keras.layers.Conv2D(filters=16,kernel_size=3,strides=2,padding='same',activation='relu')(x)\n",
        "x=keras.layers.Conv2D(filters=32,kernel_size=3,strides=2,padding='same',activation='relu')(x)\n",
        "x=keras.layers.Conv2D(filters=64,kernel_size=3,strides=2,padding='same',activation='relu')(x)\n",
        "x=keras.layers.Conv2D(filters=128,kernel_size=3,strides=2,padding='same',activation='relu')(x)\n",
        "x=keras.layers.Flatten()(x)\n",
        "x=keras.layers.Dense(128, activation = \"relu\")(x)\n",
        "x=keras.layers.Dropout(0.3)(x)\n",
        "output = tf.keras.layers.Dense(1)(x)\n",
        "model = tf.keras.Model(inputs=inputs, outputs=output)"
      ],
      "execution_count": 11,
      "outputs": []
    },
    {
      "cell_type": "code",
      "metadata": {
        "id": "-4E0PFYIwwVI",
        "outputId": "f82dfb46-291d-4ea7-eaa1-8c6c20b8db4d",
        "colab": {
          "base_uri": "https://localhost:8080/"
        }
      },
      "source": [
        "model.summary()"
      ],
      "execution_count": 12,
      "outputs": [
        {
          "output_type": "stream",
          "name": "stdout",
          "text": [
            "Model: \"model_1\"\n",
            "_________________________________________________________________\n",
            " Layer (type)                Output Shape              Param #   \n",
            "=================================================================\n",
            " input_2 (InputLayer)        [(None, 128, 128, 3)]     0         \n",
            "                                                                 \n",
            " conv2d_4 (Conv2D)           (None, 64, 64, 16)        448       \n",
            "                                                                 \n",
            " conv2d_5 (Conv2D)           (None, 32, 32, 32)        4640      \n",
            "                                                                 \n",
            " conv2d_6 (Conv2D)           (None, 16, 16, 64)        18496     \n",
            "                                                                 \n",
            " conv2d_7 (Conv2D)           (None, 8, 8, 128)         73856     \n",
            "                                                                 \n",
            " flatten_1 (Flatten)         (None, 8192)              0         \n",
            "                                                                 \n",
            " dense_2 (Dense)             (None, 128)               1048704   \n",
            "                                                                 \n",
            " dropout_1 (Dropout)         (None, 128)               0         \n",
            "                                                                 \n",
            " dense_3 (Dense)             (None, 1)                 129       \n",
            "                                                                 \n",
            "=================================================================\n",
            "Total params: 1,146,273\n",
            "Trainable params: 1,146,273\n",
            "Non-trainable params: 0\n",
            "_________________________________________________________________\n"
          ]
        }
      ]
    },
    {
      "cell_type": "markdown",
      "metadata": {
        "id": "A8WsmRSc6oiE"
      },
      "source": [
        "# Compiling and Training the Model"
      ]
    },
    {
      "cell_type": "code",
      "metadata": {
        "id": "QG2kPPcBt19i"
      },
      "source": [
        "model.compile(loss = 'mse', \n",
        "    optimizer = 'Adam', \n",
        "    metrics = [tf.keras.metrics.RootMeanSquaredError(name=\"rmse\"), \"mae\", \"mape\"])"
      ],
      "execution_count": 87,
      "outputs": []
    },
    {
      "cell_type": "code",
      "metadata": {
        "id": "dwu1UZ8St2BD",
        "outputId": "3cff0f85-450c-4db5-e9b2-a8785c60c50b",
        "colab": {
          "base_uri": "https://localhost:8080/"
        }
      },
      "source": [
        "data_augmentation = ImageDataGenerator()\n",
        "history = model.fit(\n",
        "    data_augmentation.flow(X_train,Y_train,batch_size=32),\n",
        "    validation_data = (X_val,Y_val),\n",
        "    steps_per_epoch = len(X_train) // 32,\n",
        "    epochs = 20\n",
        ")\n"
      ],
      "execution_count": 71,
      "outputs": [
        {
          "output_type": "stream",
          "name": "stdout",
          "text": [
            "Epoch 1/20\n",
            "247/247 [==============================] - 6s 21ms/step - loss: 541.7267 - rmse: 23.2750 - mae: 17.2847 - mape: 79.5284 - val_loss: 422.2872 - val_rmse: 20.5496 - val_mae: 15.1851 - val_mape: 75.0841\n",
            "Epoch 2/20\n",
            "247/247 [==============================] - 4s 17ms/step - loss: 459.6100 - rmse: 21.4385 - mae: 16.0168 - mape: 79.6473 - val_loss: 433.3282 - val_rmse: 20.8165 - val_mae: 14.8448 - val_mape: 68.8024\n",
            "Epoch 3/20\n",
            "247/247 [==============================] - 4s 17ms/step - loss: 455.9350 - rmse: 21.3526 - mae: 15.9166 - mape: 77.9752 - val_loss: 421.2057 - val_rmse: 20.5233 - val_mae: 15.5930 - val_mape: 80.0428\n",
            "Epoch 4/20\n",
            "247/247 [==============================] - 4s 16ms/step - loss: 454.2417 - rmse: 21.3129 - mae: 15.8980 - mape: 78.8353 - val_loss: 427.6042 - val_rmse: 20.6786 - val_mae: 14.8804 - val_mape: 70.4374\n",
            "Epoch 5/20\n",
            "247/247 [==============================] - 4s 16ms/step - loss: 454.2149 - rmse: 21.3123 - mae: 15.8840 - mape: 78.9360 - val_loss: 436.9916 - val_rmse: 20.9043 - val_mae: 16.6616 - val_mape: 89.7745\n",
            "Epoch 6/20\n",
            "247/247 [==============================] - 4s 17ms/step - loss: 456.4669 - rmse: 21.3651 - mae: 15.9710 - mape: 78.2803 - val_loss: 423.7414 - val_rmse: 20.5850 - val_mae: 15.0445 - val_mape: 73.2546\n",
            "Epoch 7/20\n",
            "247/247 [==============================] - 4s 16ms/step - loss: 450.1606 - rmse: 21.2170 - mae: 15.8072 - mape: 78.7690 - val_loss: 420.1398 - val_rmse: 20.4973 - val_mae: 15.2931 - val_mape: 76.7372\n",
            "Epoch 8/20\n",
            "247/247 [==============================] - 4s 16ms/step - loss: 452.2547 - rmse: 21.2663 - mae: 15.7788 - mape: 78.3188 - val_loss: 421.7959 - val_rmse: 20.5377 - val_mae: 15.1566 - val_mape: 74.9134\n",
            "Epoch 9/20\n",
            "247/247 [==============================] - 4s 16ms/step - loss: 453.7121 - rmse: 21.3005 - mae: 15.8904 - mape: 78.6769 - val_loss: 421.9689 - val_rmse: 20.5419 - val_mae: 15.3060 - val_mape: 76.6708\n",
            "Epoch 10/20\n",
            "247/247 [==============================] - 4s 16ms/step - loss: 446.4493 - rmse: 21.1293 - mae: 15.7725 - mape: 77.2981 - val_loss: 421.9397 - val_rmse: 20.5412 - val_mae: 15.0539 - val_mape: 73.3870\n",
            "Epoch 11/20\n",
            "247/247 [==============================] - 4s 16ms/step - loss: 446.0067 - rmse: 21.1189 - mae: 15.7253 - mape: 77.7850 - val_loss: 430.1428 - val_rmse: 20.7399 - val_mae: 15.0397 - val_mape: 71.7615\n",
            "Epoch 12/20\n",
            "247/247 [==============================] - 4s 16ms/step - loss: 441.5637 - rmse: 21.0134 - mae: 15.6881 - mape: 78.0036 - val_loss: 424.1815 - val_rmse: 20.5957 - val_mae: 15.4078 - val_mape: 77.3563\n",
            "Epoch 13/20\n",
            "247/247 [==============================] - 4s 17ms/step - loss: 434.6425 - rmse: 20.8481 - mae: 15.5773 - mape: 78.0253 - val_loss: 424.9542 - val_rmse: 20.6144 - val_mae: 15.2812 - val_mape: 75.4119\n",
            "Epoch 14/20\n",
            "247/247 [==============================] - 4s 16ms/step - loss: 436.0002 - rmse: 20.8806 - mae: 15.5751 - mape: 77.0961 - val_loss: 426.7312 - val_rmse: 20.6575 - val_mae: 15.5780 - val_mape: 78.7526\n",
            "Epoch 15/20\n",
            "247/247 [==============================] - 4s 16ms/step - loss: 431.6243 - rmse: 20.7756 - mae: 15.5281 - mape: 75.9649 - val_loss: 428.3109 - val_rmse: 20.6957 - val_mae: 15.1170 - val_mape: 72.2426\n",
            "Epoch 16/20\n",
            "247/247 [==============================] - 4s 16ms/step - loss: 430.0591 - rmse: 20.7379 - mae: 15.5017 - mape: 76.7424 - val_loss: 427.6244 - val_rmse: 20.6791 - val_mae: 15.6829 - val_mape: 79.3424\n",
            "Epoch 17/20\n",
            "247/247 [==============================] - 4s 16ms/step - loss: 423.0916 - rmse: 20.5692 - mae: 15.3824 - mape: 74.9277 - val_loss: 433.4836 - val_rmse: 20.8203 - val_mae: 15.7099 - val_mape: 78.3933\n",
            "Epoch 18/20\n",
            "247/247 [==============================] - 4s 16ms/step - loss: 416.4107 - rmse: 20.4061 - mae: 15.3699 - mape: 74.9020 - val_loss: 435.1764 - val_rmse: 20.8609 - val_mae: 15.7469 - val_mape: 78.4985\n",
            "Epoch 19/20\n",
            "247/247 [==============================] - 4s 17ms/step - loss: 408.7043 - rmse: 20.2164 - mae: 15.1060 - mape: 74.0226 - val_loss: 459.6948 - val_rmse: 21.4405 - val_mae: 16.9662 - val_mape: 89.8422\n",
            "Epoch 20/20\n",
            "247/247 [==============================] - 4s 16ms/step - loss: 397.3345 - rmse: 19.9333 - mae: 15.0049 - mape: 72.0349 - val_loss: 448.1214 - val_rmse: 21.1689 - val_mae: 16.3485 - val_mape: 83.9322\n"
          ]
        }
      ]
    },
    {
      "cell_type": "code",
      "metadata": {
        "id": "g6Ql6nMSNGOA",
        "outputId": "2f059d97-51ac-40e3-f9aa-10bef7150fb9",
        "colab": {
          "base_uri": "https://localhost:8080/",
          "height": 313
        }
      },
      "source": [
        "plt.figure()\n",
        "plt.plot(history.history[\"rmse\"], label=\"train_rmse\")\n",
        "plt.plot(history.history[\"val_rmse\"], label=\"val_rmse\")\n",
        "#plt.xticks(range(0,60))\n",
        "plt.title(\"RMSE train/validation by Epoch\")\n",
        "plt.xlabel(\"Epoch #\")\n",
        "plt.ylabel(\"RMSE\")\n",
        "plt.legend(loc=\"upper right\")"
      ],
      "execution_count": 72,
      "outputs": [
        {
          "output_type": "execute_result",
          "data": {
            "text/plain": [
              "<matplotlib.legend.Legend at 0x7f316e4b1d50>"
            ]
          },
          "metadata": {},
          "execution_count": 72
        },
        {
          "output_type": "display_data",
          "data": {
            "image/png": "[encoded data removed]",
            "text/plain": [
              "<Figure size 432x288 with 1 Axes>"
            ]
          },
          "metadata": {
            "needs_background": "light"
          }
        }
      ]
    },
    {
      "cell_type": "code",
      "metadata": {
        "id": "xlUfASlGuymT",
        "outputId": "acd44efc-8c99-4488-a46f-a2c2c6e97c5a",
        "colab": {
          "base_uri": "https://localhost:8080/",
          "height": 1000
        }
      },
      "source": [
        "data_augmentation = ImageDataGenerator()\n",
        "history = model.fit(\n",
        "    data_augmentation.flow(X_train,Y_train,batch_size=32),\n",
        "    validation_data = (X_val,Y_val),\n",
        "    steps_per_epoch = len(X_train) // 32,\n",
        "    epochs = 20\n",
        ")\n",
        "plt.figure()\n",
        "plt.plot(history.history[\"rmse\"], label=\"train_rmse\")\n",
        "plt.plot(history.history[\"val_rmse\"], label=\"val_rmse\")\n",
        "#plt.xticks(range(0,60))\n",
        "plt.title(\"RMSE train/validation by Epoch\")\n",
        "plt.xlabel(\"Epoch #\")\n",
        "plt.ylabel(\"RMSE\")\n",
        "plt.legend(loc=\"upper right\")"
      ],
      "execution_count": 88,
      "outputs": [
        {
          "output_type": "stream",
          "name": "stdout",
          "text": [
            "Epoch 1/20\n",
            "247/247 [==============================] - 7s 23ms/step - loss: 497.7704 - rmse: 22.3108 - mae: 16.5961 - mape: 79.0074 - val_loss: 434.7021 - val_rmse: 20.8495 - val_mae: 16.4513 - val_mape: 87.4302\n",
            "Epoch 2/20\n",
            "247/247 [==============================] - 5s 18ms/step - loss: 455.8697 - rmse: 21.3511 - mae: 15.8848 - mape: 78.4986 - val_loss: 418.9350 - val_rmse: 20.4679 - val_mae: 15.3675 - val_mape: 77.6451\n",
            "Epoch 3/20\n",
            "247/247 [==============================] - 5s 18ms/step - loss: 444.2354 - rmse: 21.0769 - mae: 15.7448 - mape: 78.7534 - val_loss: 419.8472 - val_rmse: 20.4902 - val_mae: 15.5531 - val_mape: 79.6274\n",
            "Epoch 4/20\n",
            "247/247 [==============================] - 5s 19ms/step - loss: 444.4375 - rmse: 21.0817 - mae: 15.7331 - mape: 79.5458 - val_loss: 420.0584 - val_rmse: 20.4953 - val_mae: 15.6451 - val_mape: 80.6382\n",
            "Epoch 5/20\n",
            "247/247 [==============================] - 5s 19ms/step - loss: 442.6652 - rmse: 21.0396 - mae: 15.6867 - mape: 79.0945 - val_loss: 421.5376 - val_rmse: 20.5314 - val_mae: 15.0376 - val_mape: 73.5671\n",
            "Epoch 6/20\n",
            "247/247 [==============================] - 5s 20ms/step - loss: 438.5804 - rmse: 20.9423 - mae: 15.6376 - mape: 78.4871 - val_loss: 430.4783 - val_rmse: 20.7480 - val_mae: 16.3887 - val_mape: 87.4248\n",
            "Epoch 7/20\n",
            "247/247 [==============================] - 5s 19ms/step - loss: 437.1018 - rmse: 20.9070 - mae: 15.6360 - mape: 79.0325 - val_loss: 419.2297 - val_rmse: 20.4751 - val_mae: 15.4679 - val_mape: 78.7725\n",
            "Epoch 8/20\n",
            "247/247 [==============================] - 5s 19ms/step - loss: 438.5384 - rmse: 20.9413 - mae: 15.6433 - mape: 78.6560 - val_loss: 418.5850 - val_rmse: 20.4593 - val_mae: 15.3224 - val_mape: 77.2577\n",
            "Epoch 9/20\n",
            "247/247 [==============================] - 5s 20ms/step - loss: 435.5334 - rmse: 20.8694 - mae: 15.6185 - mape: 78.5095 - val_loss: 418.5894 - val_rmse: 20.4595 - val_mae: 15.6863 - val_mape: 81.0578\n",
            "Epoch 10/20\n",
            "247/247 [==============================] - 5s 19ms/step - loss: 435.0492 - rmse: 20.8578 - mae: 15.5962 - mape: 78.3374 - val_loss: 432.4946 - val_rmse: 20.7965 - val_mae: 14.8525 - val_mape: 68.7890\n",
            "Epoch 11/20\n",
            "247/247 [==============================] - 5s 19ms/step - loss: 431.7928 - rmse: 20.7796 - mae: 15.5562 - mape: 77.8141 - val_loss: 429.5142 - val_rmse: 20.7247 - val_mae: 16.3053 - val_mape: 86.5071\n",
            "Epoch 12/20\n",
            "247/247 [==============================] - 5s 19ms/step - loss: 420.8254 - rmse: 20.5140 - mae: 15.3473 - mape: 76.7519 - val_loss: 430.4833 - val_rmse: 20.7481 - val_mae: 15.8609 - val_mape: 81.3734\n",
            "Epoch 13/20\n",
            "247/247 [==============================] - 5s 20ms/step - loss: 402.9164 - rmse: 20.0728 - mae: 15.0302 - mape: 74.5574 - val_loss: 430.5047 - val_rmse: 20.7486 - val_mae: 15.4860 - val_mape: 76.6431\n",
            "Epoch 14/20\n",
            "247/247 [==============================] - 5s 19ms/step - loss: 383.8806 - rmse: 19.5929 - mae: 14.6756 - mape: 71.5600 - val_loss: 453.2080 - val_rmse: 21.2887 - val_mae: 15.4915 - val_mape: 71.7644\n",
            "Epoch 15/20\n",
            "247/247 [==============================] - 5s 20ms/step - loss: 343.2148 - rmse: 18.5261 - mae: 13.8808 - mape: 67.7571 - val_loss: 479.1227 - val_rmse: 21.8889 - val_mae: 16.5854 - val_mape: 79.0167\n",
            "Epoch 16/20\n",
            "247/247 [==============================] - 5s 20ms/step - loss: 291.4453 - rmse: 17.0718 - mae: 12.7477 - mape: 61.4632 - val_loss: 485.6956 - val_rmse: 22.0385 - val_mae: 16.9006 - val_mape: 82.0776\n",
            "Epoch 17/20\n",
            "247/247 [==============================] - 5s 19ms/step - loss: 244.3177 - rmse: 15.6307 - mae: 11.6978 - mape: 56.0210 - val_loss: 508.5652 - val_rmse: 22.5514 - val_mae: 17.2488 - val_mape: 82.1340\n",
            "Epoch 18/20\n",
            "247/247 [==============================] - 5s 20ms/step - loss: 192.5914 - rmse: 13.8777 - mae: 10.3869 - mape: 48.6658 - val_loss: 573.4574 - val_rmse: 23.9470 - val_mae: 17.4327 - val_mape: 68.7215\n",
            "Epoch 19/20\n",
            "247/247 [==============================] - 5s 20ms/step - loss: 152.1530 - rmse: 12.3350 - mae: 9.2990 - mape: 43.5397 - val_loss: 531.2711 - val_rmse: 23.0493 - val_mae: 17.5297 - val_mape: 79.3434\n",
            "Epoch 20/20\n",
            "247/247 [==============================] - 5s 21ms/step - loss: 127.0148 - rmse: 11.2701 - mae: 8.5283 - mape: 39.4740 - val_loss: 542.4380 - val_rmse: 23.2903 - val_mae: 17.7678 - val_mape: 79.6860\n"
          ]
        },
        {
          "output_type": "execute_result",
          "data": {
            "text/plain": [
              "<matplotlib.legend.Legend at 0x7f31e20ab950>"
            ]
          },
          "metadata": {},
          "execution_count": 88
        },
        {
          "output_type": "display_data",
          "data": {
            "image/png": "[encoded data removed]",
            "text/plain": [
              "<Figure size 432x288 with 1 Axes>"
            ]
          },
          "metadata": {
            "needs_background": "light"
          }
        }
      ]
    },
    {
      "cell_type": "code",
      "metadata": {
        "id": "CznrvFylNGYb"
      },
      "source": [
        ""
      ],
      "execution_count": null,
      "outputs": []
    },
    {
      "cell_type": "code",
      "metadata": {
        "id": "F6SX2EJFNGbi"
      },
      "source": [
        ""
      ],
      "execution_count": null,
      "outputs": []
    },
    {
      "cell_type": "code",
      "metadata": {
        "id": "oxebnPVINGen"
      },
      "source": [
        ""
      ],
      "execution_count": null,
      "outputs": []
    },
    {
      "cell_type": "code",
      "metadata": {
        "id": "-snBlys2NGhU"
      },
      "source": [
        ""
      ],
      "execution_count": null,
      "outputs": []
    },
    {
      "cell_type": "code",
      "metadata": {
        "id": "kE7nkXzMNGkf"
      },
      "source": [
        ""
      ],
      "execution_count": null,
      "outputs": []
    },
    {
      "cell_type": "markdown",
      "metadata": {
        "id": "Uq-b1oyG1ntW"
      },
      "source": [
        "## Analysing the MetaData"
      ]
    },
    {
      "cell_type": "code",
      "metadata": {
        "id": "0l6-ycW-AFh-"
      },
      "source": [
        "scores = np.zeros((9912,))\n",
        "for img in range(len(train)):\n",
        "  scores[img]=train.iloc[img]['Pawpularity']"
      ],
      "execution_count": 10,
      "outputs": []
    },
    {
      "cell_type": "code",
      "metadata": {
        "id": "IbaeOOrY_0lZ"
      },
      "source": [
        "from sklearn.model_selection import train_test_split\n",
        "X_train, X_test, Y_train, Y_test = train_test_split(train, scores, test_size=0.2, shuffle = True)\n",
        "X_train, X_val, Y_train, Y_val = train_test_split(X_train, Y_train, test_size=0.2, shuffle = True)"
      ],
      "execution_count": 12,
      "outputs": []
    },
    {
      "cell_type": "code",
      "metadata": {
        "id": "nlEqx_rTAUXs",
        "outputId": "da7bdc5a-6846-4088-9fa0-85bf9e98856f",
        "colab": {
          "base_uri": "https://localhost:8080/"
        }
      },
      "source": [
        "X_train.shape"
      ],
      "execution_count": 13,
      "outputs": [
        {
          "output_type": "execute_result",
          "data": {
            "text/plain": [
              "(6343, 3)"
            ]
          },
          "metadata": {},
          "execution_count": 13
        }
      ]
    },
    {
      "cell_type": "code",
      "metadata": {
        "id": "2Ykuzq098mU6"
      },
      "source": [
        "def load_image( path):\n",
        "      raw = tf.io.read_file(image_path)\n",
        "    image = tf.image.decode_jpeg(raw, channels=3)\n",
        "    image = tf.cast(image, tf.float32) / 255.0\n",
        "    image = tf.image.resize(image, (224,224))\n",
        "    return image"
      ],
      "execution_count": 14,
      "outputs": []
    },
    {
      "cell_type": "code",
      "metadata": {
        "id": "0v-LI1eiAbQa"
      },
      "source": [
        "def splits(X_data):\n",
        "  X = np.zeros((len(X_data),224,224,3))\n",
        "  for img in range(len(X_data)):\n",
        "    X[img]=load_image(X_data.iloc[img]['path'])\n",
        "    if img%100 == 0:\n",
        "      print(img)"
      ],
      "execution_count": 19,
      "outputs": []
    },
    {
      "cell_type": "code",
      "metadata": {
        "id": "pP-xC8xnA-by"
      },
      "source": [
        "splits(X_train)"
      ],
      "execution_count": null,
      "outputs": []
    },
    {
      "cell_type": "markdown",
      "metadata": {
        "id": "5ZJMfLHPp_7L"
      },
      "source": [
        ""
      ]
    },
    {
      "cell_type": "code",
      "metadata": {
        "colab": {
          "base_uri": "https://localhost:8080/",
          "height": 189
        },
        "id": "izGO0UsliQq4",
        "outputId": "d9e8bbe5-8885-4e92-8cea-b6c6f65af100"
      },
      "source": [
        "preprocess_train = []\n",
        "preprocess_train.append(train['path'][0:4].apply(load_image))\n"
      ],
      "execution_count": null,
      "outputs": [
        {
          "output_type": "error",
          "ename": "NameError",
          "evalue": "ignored",
          "traceback": [
            "\u001b[0;31m---------------------------------------------------------------------------\u001b[0m",
            "\u001b[0;31mNameError\u001b[0m                                 Traceback (most recent call last)",
            "\u001b[0;32m<ipython-input-1-4a8493031653>\u001b[0m in \u001b[0;36m<module>\u001b[0;34m()\u001b[0m\n\u001b[1;32m      1\u001b[0m \u001b[0mpreprocess_train\u001b[0m \u001b[0;34m=\u001b[0m \u001b[0;34m[\u001b[0m\u001b[0;34m]\u001b[0m\u001b[0;34m\u001b[0m\u001b[0;34m\u001b[0m\u001b[0m\n\u001b[0;32m----> 2\u001b[0;31m \u001b[0mpreprocess_train\u001b[0m\u001b[0;34m.\u001b[0m\u001b[0mappend\u001b[0m\u001b[0;34m(\u001b[0m\u001b[0mtrain\u001b[0m\u001b[0;34m[\u001b[0m\u001b[0;34m'path'\u001b[0m\u001b[0;34m]\u001b[0m\u001b[0;34m[\u001b[0m\u001b[0;36m0\u001b[0m\u001b[0;34m:\u001b[0m\u001b[0;36m4\u001b[0m\u001b[0;34m]\u001b[0m\u001b[0;34m.\u001b[0m\u001b[0mapply\u001b[0m\u001b[0;34m(\u001b[0m\u001b[0mload_image\u001b[0m\u001b[0;34m)\u001b[0m\u001b[0;34m)\u001b[0m\u001b[0;34m\u001b[0m\u001b[0;34m\u001b[0m\u001b[0m\n\u001b[0m",
            "\u001b[0;31mNameError\u001b[0m: name 'train' is not defined"
          ]
        }
      ]
    },
    {
      "cell_type": "code",
      "metadata": {
        "id": "0rIs1mn2qZO1"
      },
      "source": [
        "import numpy as np"
      ],
      "execution_count": 2,
      "outputs": []
    },
    {
      "cell_type": "code",
      "metadata": {
        "colab": {
          "base_uri": "https://localhost:8080/",
          "height": 244
        },
        "id": "tPPNGS2AmlKC",
        "outputId": "c1916285-dbb5-4633-f9ce-9b9347a2eb55"
      },
      "source": [
        "X = np.zeros((6000,224,224,3))\n",
        "scores = np.zeros((9912,))\n",
        "for img in range(len(train)):\n",
        "  X[img]=load_image(train.iloc[img]['path'])\n",
        "  scores[img]=train.iloc[img]['Pawpularity']\n",
        "  if img%100 == 0:\n",
        "    print(img)"
      ],
      "execution_count": 3,
      "outputs": [
        {
          "output_type": "error",
          "ename": "NameError",
          "evalue": "ignored",
          "traceback": [
            "\u001b[0;31m---------------------------------------------------------------------------\u001b[0m",
            "\u001b[0;31mNameError\u001b[0m                                 Traceback (most recent call last)",
            "\u001b[0;32m<ipython-input-3-3b08c9ba2ac7>\u001b[0m in \u001b[0;36m<module>\u001b[0;34m()\u001b[0m\n\u001b[1;32m      1\u001b[0m \u001b[0mX\u001b[0m \u001b[0;34m=\u001b[0m \u001b[0mnp\u001b[0m\u001b[0;34m.\u001b[0m\u001b[0mzeros\u001b[0m\u001b[0;34m(\u001b[0m\u001b[0;34m(\u001b[0m\u001b[0;36m6000\u001b[0m\u001b[0;34m,\u001b[0m\u001b[0;36m224\u001b[0m\u001b[0;34m,\u001b[0m\u001b[0;36m224\u001b[0m\u001b[0;34m,\u001b[0m\u001b[0;36m3\u001b[0m\u001b[0;34m)\u001b[0m\u001b[0;34m)\u001b[0m\u001b[0;34m\u001b[0m\u001b[0;34m\u001b[0m\u001b[0m\n\u001b[1;32m      2\u001b[0m \u001b[0mscores\u001b[0m \u001b[0;34m=\u001b[0m \u001b[0mnp\u001b[0m\u001b[0;34m.\u001b[0m\u001b[0mzeros\u001b[0m\u001b[0;34m(\u001b[0m\u001b[0;34m(\u001b[0m\u001b[0;36m9912\u001b[0m\u001b[0;34m,\u001b[0m\u001b[0;34m)\u001b[0m\u001b[0;34m)\u001b[0m\u001b[0;34m\u001b[0m\u001b[0;34m\u001b[0m\u001b[0m\n\u001b[0;32m----> 3\u001b[0;31m \u001b[0;32mfor\u001b[0m \u001b[0mimg\u001b[0m \u001b[0;32min\u001b[0m \u001b[0mrange\u001b[0m\u001b[0;34m(\u001b[0m\u001b[0mlen\u001b[0m\u001b[0;34m(\u001b[0m\u001b[0mtrain\u001b[0m\u001b[0;34m)\u001b[0m\u001b[0;34m)\u001b[0m\u001b[0;34m:\u001b[0m\u001b[0;34m\u001b[0m\u001b[0;34m\u001b[0m\u001b[0m\n\u001b[0m\u001b[1;32m      4\u001b[0m   \u001b[0mX\u001b[0m\u001b[0;34m[\u001b[0m\u001b[0mimg\u001b[0m\u001b[0;34m]\u001b[0m\u001b[0;34m=\u001b[0m\u001b[0mload_image\u001b[0m\u001b[0;34m(\u001b[0m\u001b[0mtrain\u001b[0m\u001b[0;34m.\u001b[0m\u001b[0miloc\u001b[0m\u001b[0;34m[\u001b[0m\u001b[0mimg\u001b[0m\u001b[0;34m]\u001b[0m\u001b[0;34m[\u001b[0m\u001b[0;34m'path'\u001b[0m\u001b[0;34m]\u001b[0m\u001b[0;34m)\u001b[0m\u001b[0;34m\u001b[0m\u001b[0;34m\u001b[0m\u001b[0m\n\u001b[1;32m      5\u001b[0m   \u001b[0mscores\u001b[0m\u001b[0;34m[\u001b[0m\u001b[0mimg\u001b[0m\u001b[0;34m]\u001b[0m\u001b[0;34m=\u001b[0m\u001b[0mtrain\u001b[0m\u001b[0;34m.\u001b[0m\u001b[0miloc\u001b[0m\u001b[0;34m[\u001b[0m\u001b[0mimg\u001b[0m\u001b[0;34m]\u001b[0m\u001b[0;34m[\u001b[0m\u001b[0;34m'Pawpularity'\u001b[0m\u001b[0;34m]\u001b[0m\u001b[0;34m\u001b[0m\u001b[0;34m\u001b[0m\u001b[0m\n",
            "\u001b[0;31mNameError\u001b[0m: name 'train' is not defined"
          ]
        }
      ]
    },
    {
      "cell_type": "code",
      "metadata": {
        "id": "76EXBXY61FAo"
      },
      "source": [
        "X = np.array(X)"
      ],
      "execution_count": null,
      "outputs": []
    },
    {
      "cell_type": "code",
      "metadata": {
        "id": "f6b3bnUS1HBo"
      },
      "source": [
        ""
      ],
      "execution_count": null,
      "outputs": []
    },
    {
      "cell_type": "code",
      "metadata": {
        "id": "zel28R3O0LQP"
      },
      "source": [
        "from sklearn.model_selection import train_test_split\n",
        "import numpy as np"
      ],
      "execution_count": 10,
      "outputs": []
    },
    {
      "cell_type": "code",
      "metadata": {
        "id": "d5tEj7UpzDpX"
      },
      "source": [
        "X_train, X_test, Y_train, Y_test = train_test_split(X, scores, test_size=0.2, shuffle = True)"
      ],
      "execution_count": 12,
      "outputs": []
    },
    {
      "cell_type": "code",
      "metadata": {
        "id": "S_HhNlqRuVAi"
      },
      "source": [
        "X_train, X_val, Y_train, Y_val = train_test_split(X_train, Y_train, test_size=0.2, shuffle = True)"
      ],
      "execution_count": 13,
      "outputs": []
    },
    {
      "cell_type": "code",
      "metadata": {
        "id": "58BQkVBz0MKl"
      },
      "source": [
        "from tensorflow.keras.preprocessing.image import ImageDataGenerator\n",
        "data_generator = ImageDataGenerator()\n",
        "data_generator.fit(X)\n",
        "train_gen = data_generator.flow(x=X_train, y=Y_train)\n",
        "val_gen = data_generator.flow(x=X_val, y=Y_val)"
      ],
      "execution_count": null,
      "outputs": []
    },
    {
      "cell_type": "code",
      "metadata": {
        "id": "7DN93mUd0hDC"
      },
      "source": [
        "conv_base = VGG16(weights='imagenet',\n",
        "                  include_top=False,\n",
        "                  input_shape=(150, 150, 3))\n",
        "                  \n",
        "model = models.Sequential()\n",
        "model.add(conv_base)\n",
        "model.add(layers.Flatten())\n",
        "model.add(layers.Dense(512, activation='relu'))\n",
        "model.add(layers.Dense(1))\n",
        "\n",
        "conv_base.trainable = False"
      ],
      "execution_count": null,
      "outputs": []
    },
    {
      "cell_type": "code",
      "metadata": {
        "id": "mB-YR1k515zf"
      },
      "source": [
        "model.compile(loss = 'mse', \n",
        "    optimizer = 'Adam', \n",
        "    metrics = [tf.keras.metrics.RootMeanSquaredError(name=\"rmse\"), \"mae\", \"mape\"])"
      ],
      "execution_count": null,
      "outputs": []
    },
    {
      "cell_type": "code",
      "metadata": {
        "id": "cmwnZEKs2OXe"
      },
      "source": [
        "model.fit(train_gen,validation_data=val_gen, epochs=50,verbose=1)"
      ],
      "execution_count": null,
      "outputs": []
    }
  ]
}